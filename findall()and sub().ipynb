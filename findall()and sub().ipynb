{
 "cells": [
  {
   "cell_type": "markdown",
   "id": "2b992b8f-fba3-4c4c-9d99-c73aa47a24a8",
   "metadata": {},
   "source": [
    "# SEARCH()AND MATCH()"
   ]
  },
  {
   "cell_type": "code",
   "execution_count": 34,
   "id": "6ed408f5-6590-4d4e-9838-ef36d5e8bdea",
   "metadata": {},
   "outputs": [],
   "source": [
    "import re"
   ]
  },
  {
   "cell_type": "code",
   "execution_count": 3,
   "id": "c8ccd728-fc52-4849-b0aa-b7d9486a9616",
   "metadata": {},
   "outputs": [
    {
     "name": "stdout",
     "output_type": "stream",
     "text": [
      "<re.Match object; span=(4, 8), match='1000'>\n"
     ]
    }
   ],
   "source": [
    "pattern=r'10+'\n",
    "print(re.search(pattern,'abcd1000'))"
   ]
  },
  {
   "cell_type": "code",
   "execution_count": 5,
   "id": "16a961a2-1b1d-4b25-9169-751fcfc94c05",
   "metadata": {},
   "outputs": [
    {
     "name": "stdout",
     "output_type": "stream",
     "text": [
      "<re.Match object; span=(0, 4), match='1000'>\n"
     ]
    }
   ],
   "source": [
    "pattern=r'10+'\n",
    "print(re.match(pattern,'1000abcd1000'))"
   ]
  },
  {
   "cell_type": "code",
   "execution_count": 7,
   "id": "b135e9b9-35af-4af8-ae41-4f611f592155",
   "metadata": {},
   "outputs": [
    {
     "name": "stdout",
     "output_type": "stream",
     "text": [
      "<re.Match object; span=(15, 23), match='tutorial'>\n"
     ]
    }
   ],
   "source": [
    "pattern=r'\\w{8}'\n",
    "print(re.search(pattern,'this is python tutorial'))"
   ]
  },
  {
   "cell_type": "code",
   "execution_count": 9,
   "id": "11b2ae7f-9f4e-47fd-913d-0afa23af63a7",
   "metadata": {},
   "outputs": [
    {
     "name": "stdout",
     "output_type": "stream",
     "text": [
      "<re.Match object; span=(0, 8), match='tutorial'>\n"
     ]
    }
   ],
   "source": [
    "pattern=r'\\w{8}'\n",
    "print(re.match(pattern,'tutorial this is python tutorial'))"
   ]
  },
  {
   "cell_type": "markdown",
   "id": "bfb67df1-d7ac-4560-b46d-dd50fd6aa654",
   "metadata": {},
   "source": [
    "# SEARCH() AND FINDALL()"
   ]
  },
  {
   "cell_type": "code",
   "execution_count": 13,
   "id": "08b74f00-7692-4b1c-b011-a64023e861a4",
   "metadata": {},
   "outputs": [
    {
     "name": "stdout",
     "output_type": "stream",
     "text": [
      "<re.Match object; span=(15, 23), match='tutorial'>\n"
     ]
    }
   ],
   "source": [
    "pattern=r'\\w{8}'\n",
    "print(re.search(pattern,'this is python tutorial tutorial tutorials'))"
   ]
  },
  {
   "cell_type": "code",
   "execution_count": 15,
   "id": "9406945a-483f-476e-975e-6b2dcc7da449",
   "metadata": {},
   "outputs": [
    {
     "name": "stdout",
     "output_type": "stream",
     "text": [
      "['tutorial', 'tutorial', 'tutorial']\n"
     ]
    }
   ],
   "source": [
    "pattern=r'\\w{8}'\n",
    "print(re.findall(pattern,'this is python tutorial tutorial tutorials'))"
   ]
  },
  {
   "cell_type": "code",
   "execution_count": 17,
   "id": "1d8ce900-afd1-4e1f-b0f2-c450ef2a91e2",
   "metadata": {},
   "outputs": [
    {
     "name": "stdout",
     "output_type": "stream",
     "text": [
      "['tutorial', 'tutorial']\n"
     ]
    }
   ],
   "source": [
    "pattern=r'\\b\\w{8}\\b'\n",
    "print(re.findall(pattern,'this is python tutorial tutorial tutorials'))"
   ]
  },
  {
   "cell_type": "markdown",
   "id": "303901e4-2ce1-4aad-870b-83905c214f68",
   "metadata": {},
   "source": [
    "# sub()"
   ]
  },
  {
   "cell_type": "code",
   "execution_count": 32,
   "id": "6aeec81b-b056-4ee2-a439-fe27e0106fc1",
   "metadata": {},
   "outputs": [
    {
     "name": "stdout",
     "output_type": "stream",
     "text": [
      ";d;y;u;;;d\n"
     ]
    }
   ],
   "source": [
    "pattern=r'[,.\\s]'\n",
    "print(re.sub(pattern,';',',d,y,u. .d'))"
   ]
  },
  {
   "cell_type": "code",
   "execution_count": null,
   "id": "c61d811d-1965-4ba0-98e8-91fed283a5a7",
   "metadata": {},
   "outputs": [],
   "source": []
  }
 ],
 "metadata": {
  "kernelspec": {
   "display_name": "Python 3 (ipykernel)",
   "language": "python",
   "name": "python3"
  },
  "language_info": {
   "codemirror_mode": {
    "name": "ipython",
    "version": 3
   },
   "file_extension": ".py",
   "mimetype": "text/x-python",
   "name": "python",
   "nbconvert_exporter": "python",
   "pygments_lexer": "ipython3",
   "version": "3.12.7"
  }
 },
 "nbformat": 4,
 "nbformat_minor": 5
}
