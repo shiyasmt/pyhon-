{
 "cells": [
  {
   "cell_type": "markdown",
   "id": "74b682fb-d3fb-430b-83ce-9924d4adc301",
   "metadata": {},
   "source": [
    "#ENUMERATE FUNCTION"
   ]
  },
  {
   "cell_type": "code",
   "execution_count": 1,
   "id": "84762617-e40b-467b-8c53-a939d3f8a26d",
   "metadata": {},
   "outputs": [],
   "source": [
    "pattern=\"string1\""
   ]
  },
  {
   "cell_type": "code",
   "execution_count": 3,
   "id": "c65202a8-5f73-4a4e-89fb-cdb0455b6595",
   "metadata": {},
   "outputs": [
    {
     "name": "stdout",
     "output_type": "stream",
     "text": [
      "0 s\n",
      "1 t\n",
      "2 r\n",
      "3 i\n",
      "4 n\n",
      "5 g\n",
      "6 1\n"
     ]
    }
   ],
   "source": [
    "for i in range(len(pattern)):\n",
    "    print(i,pattern[i])"
   ]
  },
  {
   "cell_type": "code",
   "execution_count": 5,
   "id": "1fcfbbd2-b048-4108-a87f-d271f33e55ea",
   "metadata": {},
   "outputs": [
    {
     "name": "stdout",
     "output_type": "stream",
     "text": [
      "1 s\n",
      "2 t\n",
      "3 r\n",
      "4 i\n",
      "5 n\n",
      "6 g\n",
      "7 1\n"
     ]
    }
   ],
   "source": [
    "for pos,p in enumerate(pattern,1):\n",
    "    print(pos,p)"
   ]
  },
  {
   "cell_type": "code",
   "execution_count": 7,
   "id": "841e213a-1285-42c3-95ca-6f020a6bea24",
   "metadata": {},
   "outputs": [
    {
     "data": {
      "text/plain": [
       "((0, 's'), (1, 't'), (2, 'r'), (3, 'i'), (4, 'n'), (5, 'g'), (6, '1'))"
      ]
     },
     "execution_count": 7,
     "metadata": {},
     "output_type": "execute_result"
    }
   ],
   "source": [
    "tuple(enumerate(pattern))"
   ]
  },
  {
   "cell_type": "code",
   "execution_count": 9,
   "id": "02ea6b97-1bcb-451e-a269-85f185d29897",
   "metadata": {},
   "outputs": [
    {
     "name": "stdout",
     "output_type": "stream",
     "text": [
      "{0: 's', 1: 't', 2: 'r', 3: 'i', 4: 'n', 5: 'g', 6: '1'}\n"
     ]
    }
   ],
   "source": [
    "print(dict(enumerate(\"string1\")))"
   ]
  },
  {
   "cell_type": "code",
   "execution_count": 13,
   "id": "5591623d-e1fb-4dc2-9989-6feee9b9b853",
   "metadata": {},
   "outputs": [
    {
     "name": "stdout",
     "output_type": "stream",
     "text": [
      "[(0, 1), (1, 2), (2, 3), (3, 4)]\n"
     ]
    }
   ],
   "source": [
    "list1=list(enumerate([1,2,3,4]))\n",
    "print(list1)"
   ]
  },
  {
   "cell_type": "markdown",
   "id": "f020de0b-8b1f-4696-a997-34b8e96e1e3c",
   "metadata": {},
   "source": [
    "#REGEX MODULE"
   ]
  },
  {
   "cell_type": "code",
   "execution_count": 19,
   "id": "1d43bea1-7e36-4fe7-a559-5ee550e5d396",
   "metadata": {},
   "outputs": [],
   "source": [
    "import re"
   ]
  },
  {
   "cell_type": "code",
   "execution_count": 21,
   "id": "fea5c25d-0f9c-4be0-ae6e-8bae0da5dc37",
   "metadata": {},
   "outputs": [
    {
     "name": "stdout",
     "output_type": "stream",
     "text": [
      "g\n",
      "\t*\n",
      "g\\n\\t*\n"
     ]
    }
   ],
   "source": [
    "print('g\\n\\t*')\n",
    "print(r'g\\n\\t*')"
   ]
  },
  {
   "cell_type": "code",
   "execution_count": 27,
   "id": "30420208-6085-4439-85c6-69fc3706c190",
   "metadata": {},
   "outputs": [],
   "source": [
    "string=\"string1\""
   ]
  },
  {
   "cell_type": "code",
   "execution_count": 29,
   "id": "cf5bb9f7-f9d1-42be-b9d3-15ba7acbe0d6",
   "metadata": {},
   "outputs": [
    {
     "data": {
      "text/plain": [
       "<re.Match object; span=(0, 7), match='string1'>"
      ]
     },
     "execution_count": 29,
     "metadata": {},
     "output_type": "execute_result"
    }
   ],
   "source": [
    "re.search(pattern,string)"
   ]
  },
  {
   "cell_type": "code",
   "execution_count": 55,
   "id": "206ffaf6-ffbe-46d9-aa5f-f8875afb0d67",
   "metadata": {},
   "outputs": [
    {
     "name": "stdout",
     "output_type": "stream",
     "text": [
      "<re.Match object; span=(4, 9), match='10000'>\n"
     ]
    }
   ],
   "source": [
    "pattern=r'10*'\n",
    "print(re.search(pattern,'abcd1000'))"
   ]
  },
  {
   "cell_type": "code",
   "execution_count": 69,
   "id": "096d06c1-0018-4043-b5bc-58aaf2781115",
   "metadata": {},
   "outputs": [
    {
     "name": "stdout",
     "output_type": "stream",
     "text": [
      "None\n"
     ]
    }
   ],
   "source": [
    "pattern=r'10+'\n",
    "print(re.search(pattern,'abcd1'))"
   ]
  },
  {
   "cell_type": "code",
   "execution_count": 91,
   "id": "f09d41a8-967d-40a3-82ab-a27e38e31d36",
   "metadata": {},
   "outputs": [
    {
     "name": "stdout",
     "output_type": "stream",
     "text": [
      "<re.Match object; span=(0, 2), match='a0'>\n"
     ]
    }
   ],
   "source": [
    "pattern=r'[a-z]0?'\n",
    "print(re.search(pattern,'a0b100'))"
   ]
  },
  {
   "cell_type": "code",
   "execution_count": 99,
   "id": "196bd8e9-3545-412a-a022-509e47d01c2b",
   "metadata": {},
   "outputs": [
    {
     "name": "stdout",
     "output_type": "stream",
     "text": [
      "<re.Match object; span=(2, 6), match='1000'>\n"
     ]
    }
   ],
   "source": [
    "pattern=r'10{3}'\n",
    "print(re.search(pattern,'ab10000'))"
   ]
  },
  {
   "cell_type": "code",
   "execution_count": 103,
   "id": "f01ff4b6-dad3-492c-bee7-40cebcee0a60",
   "metadata": {},
   "outputs": [
    {
     "name": "stdout",
     "output_type": "stream",
     "text": [
      "<re.Match object; span=(0, 9), match='aaabc_def'>\n"
     ]
    }
   ],
   "source": [
    "pattern=r'[a-zA-Z]+_[a-zA-Z]+'\n",
    "print(re.search(pattern,'aAabc_def_hij'))"
   ]
  },
  {
   "cell_type": "code",
   "execution_count": 117,
   "id": "46d489ce-9c29-46e4-8e05-0369afeccc54",
   "metadata": {},
   "outputs": [
    {
     "name": "stdout",
     "output_type": "stream",
     "text": [
      "<re.Match object; span=(0, 10), match='15-04-1996'>\n"
     ]
    }
   ],
   "source": [
    "pattern=r'\\d{1,2}-\\d{1,2}-\\d{2,4}'\n",
    "print(re.search(pattern,'15-04-1996'))"
   ]
  },
  {
   "cell_type": "code",
   "execution_count": 77,
   "id": "9d72a662-d6a1-4c21-b589-c40dff9e2ca9",
   "metadata": {},
   "outputs": [
    {
     "name": "stdout",
     "output_type": "stream",
     "text": [
      "<re.Match object; span=(0, 8), match='pythonin'>\n"
     ]
    }
   ],
   "source": [
    "pattern=r'[a-zA-Z]{8}'\n",
    "print(re.search(pattern,'pythoninguiyft'))"
   ]
  },
  {
   "cell_type": "code",
   "execution_count": 125,
   "id": "e13fe32e-ac5d-4fab-ae35-de7639ec006e",
   "metadata": {},
   "outputs": [
    {
     "name": "stdout",
     "output_type": "stream",
     "text": [
      "<re.Match object; span=(15, 23), match='tutorial'>\n"
     ]
    }
   ],
   "source": [
    "pattern=r'\\w{8}'\n",
    "print(re.search(pattern,'this is python tutorial'))"
   ]
  },
  {
   "cell_type": "code",
   "execution_count": 129,
   "id": "0b1ed271-6e48-4b77-bc97-e2630014c15b",
   "metadata": {},
   "outputs": [
    {
     "name": "stdout",
     "output_type": "stream",
     "text": [
      "None\n"
     ]
    }
   ],
   "source": [
    "pattern=r'python$'\n",
    "print(re.search(pattern,'this tutorial is about python and javascript'))"
   ]
  },
  {
   "cell_type": "code",
   "execution_count": 151,
   "id": "5bc5cf31-052f-4ef6-837b-fbb8cfc0caea",
   "metadata": {},
   "outputs": [
    {
     "name": "stdout",
     "output_type": "stream",
     "text": [
      "<re.Match object; span=(0, 29), match='this tutorial is about python'>\n"
     ]
    }
   ],
   "source": [
    "pattern=r'.*python$'\n",
    "print(re.search(pattern,'this tutorial is about python'))"
   ]
  },
  {
   "cell_type": "code",
   "execution_count": null,
   "id": "c1af7775-080c-4791-9dac-88382ad404f8",
   "metadata": {},
   "outputs": [],
   "source": []
  }
 ],
 "metadata": {
  "kernelspec": {
   "display_name": "Python 3 (ipykernel)",
   "language": "python",
   "name": "python3"
  },
  "language_info": {
   "codemirror_mode": {
    "name": "ipython",
    "version": 3
   },
   "file_extension": ".py",
   "mimetype": "text/x-python",
   "name": "python",
   "nbconvert_exporter": "python",
   "pygments_lexer": "ipython3",
   "version": "3.12.7"
  }
 },
 "nbformat": 4,
 "nbformat_minor": 5
}
