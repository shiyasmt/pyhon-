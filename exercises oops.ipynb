{
 "cells": [
  {
   "cell_type": "markdown",
   "id": "898abd4d-4b22-474a-be6d-2c10270f8403",
   "metadata": {},
   "source": [
    "# exercises"
   ]
  },
  {
   "cell_type": "markdown",
   "id": "e97c742a-51c5-4d0e-a35f-55b475c54db2",
   "metadata": {},
   "source": [
    "## 1"
   ]
  },
  {
   "cell_type": "code",
   "execution_count": 59,
   "id": "daffd69f-a110-48b7-85e1-9927f8271d11",
   "metadata": {},
   "outputs": [],
   "source": [
    "class employee:\n",
    "    def __init__(self,emp_name,emp_id,emp_salary,emp_dptmt):\n",
    "        self.name=emp_name\n",
    "        self.id=emp_id\n",
    "        self.salary=emp_salary\n",
    "        self.dptmt=emp_dptmt\n",
    "    def assign_department(self):\n",
    "        self.emp_dptmt=input()\n",
    "        print(f\"employee {self.name}'s department has been changed to {self.emp_dptmt}\")\n",
    "    def staff_details(self):\n",
    "        print(f\"staff_name:{self.name}\")\n",
    "        print(f\"emp_id:{self.id}\")\n",
    "        print(f\"emp_salary:{self.salary}\")\n",
    "        print(f\"emp_dptmt:{self.emp_dptmt}\")\n",
    "    def staff_salary(self,hours_worked):\n",
    "        if hours_worked>50:\n",
    "            overtime=hours_worked-50\n",
    "            Overtime_amount = (overtime *(self.salary / 50))\n",
    "            total_salary=self.salary+Overtime_amount\n",
    "        else:\n",
    "            total_salary=self.salary\n",
    "        return total_salary\n",
    "\n",
    "emp1=employee(\"ADAMS\", \"E7876\", 50000, \"ACCOUNTING\")\n",
    "emp2=employee(\"JONES\", \"E7499\", 45000, \"RESEARCH\")\n",
    "emp3=employee(\"MARTIN\", \"E7900\", 50000, \"SALES\")\n",
    "emp4=employee(\"SMITH\", \"E7698\", 55000, \"OPERATIONS\")\n",
    "\n",
    "\n"
   ]
  },
  {
   "cell_type": "code",
   "execution_count": 23,
   "id": "f5440aa7-cf02-4ec5-b708-1202b80c3125",
   "metadata": {},
   "outputs": [
    {
     "name": "stdin",
     "output_type": "stream",
     "text": [
      " marketing\n"
     ]
    },
    {
     "name": "stdout",
     "output_type": "stream",
     "text": [
      "employee ADAMS's department has been changed to marketing\n"
     ]
    }
   ],
   "source": [
    "emp1.assign_department()"
   ]
  },
  {
   "cell_type": "code",
   "execution_count": 55,
   "id": "9584e921-dd22-4389-8622-517bf99dcfc5",
   "metadata": {},
   "outputs": [
    {
     "data": {
      "text/plain": [
       "50400.0"
      ]
     },
     "execution_count": 55,
     "metadata": {},
     "output_type": "execute_result"
    }
   ],
   "source": [
    "emp2.staff_salary(56)"
   ]
  },
  {
   "cell_type": "code",
   "execution_count": 61,
   "id": "b7498f33-0c66-4801-b1ff-6a00aaa1f046",
   "metadata": {},
   "outputs": [
    {
     "data": {
      "text/plain": [
       "50000"
      ]
     },
     "execution_count": 61,
     "metadata": {},
     "output_type": "execute_result"
    }
   ],
   "source": [
    "emp1.staff_salary(50)"
   ]
  },
  {
   "cell_type": "code",
   "execution_count": 25,
   "id": "04d76b07-1fb0-4114-97de-25fe758e2edf",
   "metadata": {},
   "outputs": [
    {
     "name": "stdout",
     "output_type": "stream",
     "text": [
      "staff_name:ADAMS\n",
      "emp_id:E7876\n",
      "emp_salary:50000\n",
      "emp_dptmt:marketing\n"
     ]
    }
   ],
   "source": [
    "emp1.staff_details()"
   ]
  },
  {
   "cell_type": "code",
   "execution_count": 51,
   "id": "347619ce-ad4b-4019-9b3d-ee24cdc3dcb5",
   "metadata": {},
   "outputs": [
    {
     "name": "stdout",
     "output_type": "stream",
     "text": [
      "staff_name:JONES\n",
      "emp_id:E7499\n",
      "emp_salary:45000\n",
      "emp_department:RESEARCH\n"
     ]
    }
   ],
   "source": [
    "emp2.staff_details()"
   ]
  },
  {
   "cell_type": "code",
   "execution_count": 53,
   "id": "5e985975-0352-4ff3-a621-6eba7cf28cc6",
   "metadata": {},
   "outputs": [
    {
     "name": "stdout",
     "output_type": "stream",
     "text": [
      "staff_name:MARTIN\n",
      "emp_id:E7900\n",
      "emp_salary:50000\n",
      "emp_department:SALES\n"
     ]
    }
   ],
   "source": [
    "emp3.staff_details()"
   ]
  },
  {
   "cell_type": "code",
   "execution_count": 55,
   "id": "60d7be06-1c21-4fd6-bfc1-00a30e95dd4b",
   "metadata": {},
   "outputs": [
    {
     "name": "stdout",
     "output_type": "stream",
     "text": [
      "staff_name:SMITH\n",
      "emp_id:E7698\n",
      "emp_salary:55000\n",
      "emp_department:OPERATIONS\n"
     ]
    }
   ],
   "source": [
    "emp4.staff_details()"
   ]
  },
  {
   "cell_type": "code",
   "execution_count": 63,
   "id": "03e8d90a-b50b-40cf-8955-70c79be72238",
   "metadata": {},
   "outputs": [
    {
     "data": {
      "text/plain": [
       "55000"
      ]
     },
     "execution_count": 63,
     "metadata": {},
     "output_type": "execute_result"
    }
   ],
   "source": [
    "emp4.staff_salary(45)"
   ]
  },
  {
   "cell_type": "markdown",
   "id": "da99e050-cbc4-4076-905a-0490e8f9ce02",
   "metadata": {},
   "source": [
    "# exercises"
   ]
  },
  {
   "cell_type": "markdown",
   "id": "06f796fb-d8c2-4830-8f89-542747a29dd6",
   "metadata": {},
   "source": [
    "## 2"
   ]
  },
  {
   "cell_type": "code",
   "execution_count": 81,
   "id": "3148d2e6-5fb6-4985-a6ee-3c54c8db5279",
   "metadata": {},
   "outputs": [
    {
     "name": "stdout",
     "output_type": "stream",
     "text": [
      "special items are:['pasta', 'pizza']\n",
      "booked table is :[3]\n",
      "total order is :['burger']\n"
     ]
    }
   ],
   "source": [
    "class restaurent:\n",
    "    def __init__(self,menu_items,book_table,customer_orders):\n",
    "        self.items=menu_items\n",
    "        self.table=book_table\n",
    "        self.order=customer_orders\n",
    "    def add_item_to_menu(self):\n",
    "        self.menu=input()\n",
    "        self.items.append(self.menu)\n",
    "        print(f\"special items are:{self.items}\")\n",
    "    def book_tables(self):\n",
    "        self.book=input()\n",
    "        self.table.append(self.book)\n",
    "        print(f\"booked table is :{self.table}\")\n",
    "    def customer_order(self):\n",
    "        self.customer_order=input()\n",
    "        self.order.append(self.customer_order)\n",
    "        print(f\"order is :{self.order}\")\n",
    "    def print_the_full_details(self):\n",
    "         print(f\"special items are:{self.items}\")\n",
    "         print(f\"booked table is :{self.table}\")\n",
    "         print(f\"order is :{self.order}\")\n",
    "\n",
    "orders= restaurent(menu_items=[\"pasta\",\"pizza\"], book_table=[3], customer_orders=['burger'])\n",
    "orders.print_the_full_details()"
   ]
  },
  {
   "cell_type": "code",
   "execution_count": 83,
   "id": "43d9e879-a86a-4fe6-b7c9-c36d05de259e",
   "metadata": {},
   "outputs": [
    {
     "name": "stdin",
     "output_type": "stream",
     "text": [
      " dosa\n"
     ]
    },
    {
     "name": "stdout",
     "output_type": "stream",
     "text": [
      "special items are:['pasta', 'pizza', 'dosa']\n"
     ]
    },
    {
     "name": "stdin",
     "output_type": "stream",
     "text": [
      " 6\n"
     ]
    },
    {
     "name": "stdout",
     "output_type": "stream",
     "text": [
      "booked table is :[3, '6']\n"
     ]
    },
    {
     "name": "stdin",
     "output_type": "stream",
     "text": [
      " meals\n"
     ]
    },
    {
     "name": "stdout",
     "output_type": "stream",
     "text": [
      "order is :['burger', 'meals']\n"
     ]
    }
   ],
   "source": [
    "orders.add_item_to_menu()\n",
    "orders.book_tables()\n",
    "orders.customer_order()"
   ]
  },
  {
   "cell_type": "code",
   "execution_count": 87,
   "id": "c2d434bc-5346-459a-9c1b-5af6f28e08f7",
   "metadata": {},
   "outputs": [
    {
     "name": "stdin",
     "output_type": "stream",
     "text": [
      " meals\n"
     ]
    },
    {
     "name": "stdout",
     "output_type": "stream",
     "text": [
      "special items are:['pasta', 'pizza', 'dosa', 'meals']\n"
     ]
    }
   ],
   "source": [
    "orders.add_item_to_menu()"
   ]
  },
  {
   "cell_type": "code",
   "execution_count": 89,
   "id": "e410130e-8c14-4860-b89c-280ae8b095ee",
   "metadata": {},
   "outputs": [
    {
     "name": "stdout",
     "output_type": "stream",
     "text": [
      "special items are:['pasta', 'pizza', 'dosa', 'meals']\n",
      "booked table is :[3, '6']\n",
      "total order is :['burger', 'meals']\n"
     ]
    }
   ],
   "source": [
    "orders.print_the_full_details()"
   ]
  },
  {
   "cell_type": "markdown",
   "id": "e3aa7952-0f4b-4218-a6fd-b535e8c59962",
   "metadata": {},
   "source": [
    "# exercises"
   ]
  },
  {
   "cell_type": "markdown",
   "id": "b339208f-9edf-4cba-94ee-b22102204172",
   "metadata": {},
   "source": [
    "## 3"
   ]
  },
  {
   "cell_type": "code",
   "execution_count": 31,
   "id": "5c07e190-41d1-4703-8784-eb3d99dfd702",
   "metadata": {},
   "outputs": [
    {
     "name": "stdout",
     "output_type": "stream",
     "text": [
      "your withraw amount is  32000\n",
      "your balance is  18000\n",
      "your withraw amount is  13500\n",
      "your balance is  21400\n"
     ]
    }
   ],
   "source": [
    "class account:\n",
    "    def __init__(self,accnt_num,accnt_blnce):\n",
    "        self.accnt=accnt_num\n",
    "        self.blnce=accnt_blnce\n",
    "    def withdraw(self,amount):\n",
    "        if self.blnce-amount>=0:\n",
    "            self.blnce=self.blnce-amount\n",
    "            print('your withraw amount is ',amount)\n",
    "            print('your balance is ',self.blnce)\n",
    "        else:\n",
    "            print(\"withdrawal failed\")\n",
    "    def display(self):\n",
    "        print(self.accnt,\"your balance is \",self.blnce)\n",
    "\n",
    "accnt1=account(99980116647020,50000)\n",
    "accnt1.withdraw(32000)\n",
    "accnt2=account(9980889085,34900)\n",
    "accnt2.withdraw(13500)"
   ]
  },
  {
   "cell_type": "markdown",
   "id": "f8b5246b-28bf-4d17-aee2-300a732e78e7",
   "metadata": {},
   "source": [
    "# exercises"
   ]
  },
  {
   "cell_type": "markdown",
   "id": "31dd992e-997a-4188-8ac1-c8e3e5f609e8",
   "metadata": {},
   "source": [
    "## 4"
   ]
  },
  {
   "cell_type": "code",
   "execution_count": 161,
   "id": "f8c13c20-b81d-4d55-97d3-214934ac8f39",
   "metadata": {},
   "outputs": [
    {
     "name": "stdin",
     "output_type": "stream",
     "text": [
      " 6\n",
      " shoe\n",
      " 2\n",
      " 1999\n"
     ]
    },
    {
     "name": "stdout",
     "output_type": "stream",
     "text": [
      "new added item id 6 item name is shoe count is 2 price is 1999\n"
     ]
    }
   ],
   "source": [
    "class inventory:\n",
    "    def __init__(self,item_id,item_name,stock_count,price):\n",
    "        self.id=item_id\n",
    "        self.name=item_name\n",
    "        self.count=stock_count\n",
    "        self.price=price\n",
    "    def update_item(self):\n",
    "        self.updateid=input()\n",
    "        self.updatename=input()\n",
    "        self.updatecount=input()\n",
    "        self.updateprice=input()\n",
    "        self.id.append(self.updateid)\n",
    "        self.name.append(self.updatename)\n",
    "        self.count.append(self.updatecount)\n",
    "        self.price.append(self.updateprice)\n",
    "        print(f\"new added item id {self.updateid} item name is {self.updatename} count is {self.updatecount} price is {self.updateprice}\")\n",
    "\n",
    "inventory1=inventory(item_id=[2,3,4],item_name=[\"watch\",\"ring\",\"bracelet\"],stock_count=[5,3,6],price=[2000,1500,900])\n",
    "inventory1.update_item()"
   ]
  }
 ],
 "metadata": {
  "kernelspec": {
   "display_name": "Python 3 (ipykernel)",
   "language": "python",
   "name": "python3"
  },
  "language_info": {
   "codemirror_mode": {
    "name": "ipython",
    "version": 3
   },
   "file_extension": ".py",
   "mimetype": "text/x-python",
   "name": "python",
   "nbconvert_exporter": "python",
   "pygments_lexer": "ipython3",
   "version": "3.12.7"
  }
 },
 "nbformat": 4,
 "nbformat_minor": 5
}
