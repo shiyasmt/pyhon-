{
 "cells": [
  {
   "cell_type": "markdown",
   "id": "dd0d34ff-daf4-430a-8285-5b70b0248017",
   "metadata": {},
   "source": [
    "# INHERITANCE"
   ]
  },
  {
   "cell_type": "code",
   "execution_count": 72,
   "id": "20294ae1-57f2-4989-8f28-62af0fb3a5fe",
   "metadata": {},
   "outputs": [],
   "source": [
    "class bird:\n",
    "    def intro(self):\n",
    "        print(\"there are many types of birds\")\n",
    "    def flight(self):\n",
    "        print(\"most of the types of birds\")\n",
    "class sparrow(bird):\n",
    "    def flight(self):\n",
    "        print(\"sparraw can fly\")\n",
    "class ostrich(bird):\n",
    "    def flight(self):\n",
    "        print(\"ostrich cannot fly\")\n",
    "\n",
    "obj_bird=bird()\n",
    "obj_spr=sparrow()\n",
    "obj_ost=ostrich()\n",
    "\n",
    "    "
   ]
  },
  {
   "cell_type": "code",
   "execution_count": 74,
   "id": "778311db-7f5e-4ff8-9da1-5ae860888fa2",
   "metadata": {},
   "outputs": [
    {
     "name": "stdout",
     "output_type": "stream",
     "text": [
      "there are many types of birds\n",
      "most of the types of birds\n"
     ]
    }
   ],
   "source": [
    "obj_bird.intro()\n",
    "obj_bird.flight()"
   ]
  },
  {
   "cell_type": "code",
   "execution_count": 76,
   "id": "816667c9-87a2-4e1a-81d0-e84702c92ffe",
   "metadata": {},
   "outputs": [
    {
     "name": "stdout",
     "output_type": "stream",
     "text": [
      "there are many types of birds\n",
      "sparraw can fly\n"
     ]
    }
   ],
   "source": [
    "obj_spr.intro()\n",
    "obj_spr.flight()"
   ]
  },
  {
   "cell_type": "code",
   "execution_count": 78,
   "id": "312c3749-f6e6-4551-8fa6-7f4d672bae28",
   "metadata": {},
   "outputs": [
    {
     "name": "stdout",
     "output_type": "stream",
     "text": [
      "there are many types of birds\n",
      "ostrich cannot fly\n"
     ]
    }
   ],
   "source": [
    "obj_ost.intro()\n",
    "obj_ost.flight()"
   ]
  },
  {
   "cell_type": "code",
   "execution_count": null,
   "id": "c8067cf2-55e0-4857-bac2-9331559397f1",
   "metadata": {},
   "outputs": [],
   "source": []
  }
 ],
 "metadata": {
  "kernelspec": {
   "display_name": "Python 3 (ipykernel)",
   "language": "python",
   "name": "python3"
  },
  "language_info": {
   "codemirror_mode": {
    "name": "ipython",
    "version": 3
   },
   "file_extension": ".py",
   "mimetype": "text/x-python",
   "name": "python",
   "nbconvert_exporter": "python",
   "pygments_lexer": "ipython3",
   "version": "3.12.7"
  }
 },
 "nbformat": 4,
 "nbformat_minor": 5
}
