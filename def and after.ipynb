{
 "cells": [
  {
   "cell_type": "markdown",
   "id": "d7b91a9c-3dfd-4308-a387-f057c4e6d52f",
   "metadata": {},
   "source": [
    "# try and except"
   ]
  },
  {
   "cell_type": "code",
   "execution_count": 7,
   "id": "28c887da-52ff-4876-bb5b-7836e6d5507d",
   "metadata": {},
   "outputs": [
    {
     "name": "stdin",
     "output_type": "stream",
     "text": [
      " 0\n",
      " 5\n"
     ]
    },
    {
     "name": "stdout",
     "output_type": "stream",
     "text": [
      "0.0\n",
      "end of the program\n"
     ]
    }
   ],
   "source": [
    "try:\n",
    "    a=int(input())\n",
    "    b=int(input())\n",
    "    c=a/b\n",
    "    print(c)\n",
    "except:\n",
    "    print(\"Enter valid input\")\n",
    "else:\n",
    "    print(\"end of the program\")"
   ]
  },
  {
   "cell_type": "code",
   "execution_count": 5,
   "id": "c2651a79-0959-468c-a3bf-30c2796f4dca",
   "metadata": {},
   "outputs": [
    {
     "ename": "ZeroDivisionError",
     "evalue": "division by zero",
     "output_type": "error",
     "traceback": [
      "\u001b[1;31m---------------------------------------------------------------------------\u001b[0m",
      "\u001b[1;31mZeroDivisionError\u001b[0m                         Traceback (most recent call last)",
      "Cell \u001b[1;32mIn[5], line 1\u001b[0m\n\u001b[1;32m----> 1\u001b[0m \u001b[38;5;241m5\u001b[39m\u001b[38;5;241m/\u001b[39m\u001b[38;5;241m0\u001b[39m\n",
      "\u001b[1;31mZeroDivisionError\u001b[0m: division by zero"
     ]
    }
   ],
   "source": [
    "5/0"
   ]
  },
  {
   "cell_type": "markdown",
   "id": "4ef35e23-97f0-4abf-99cc-3ab5d78571af",
   "metadata": {},
   "source": [
    "# lambda function\n",
    "lambda is an anonymous function and it doesn't have a name. Can pass multiple arguments into this function but only allows single"
   ]
  },
  {
   "cell_type": "code",
   "execution_count": 27,
   "id": "b2edd3dc-6045-4585-bc55-fcf730da863f",
   "metadata": {},
   "outputs": [
    {
     "name": "stdout",
     "output_type": "stream",
     "text": [
      "-10\n"
     ]
    }
   ],
   "source": [
    "y=lambda x,y:x+1+y-2*y\n",
    "print(y(11,22))"
   ]
  },
  {
   "cell_type": "code",
   "execution_count": 24,
   "id": "a10797e1-66d6-4e8e-90d3-ef795ca4ce34",
   "metadata": {},
   "outputs": [
    {
     "name": "stdout",
     "output_type": "stream",
     "text": [
      "6\n"
     ]
    }
   ],
   "source": [
    "def y(x):\n",
    "    print(x+1)\n",
    "y(5)\n",
    "    "
   ]
  },
  {
   "cell_type": "code",
   "execution_count": 30,
   "id": "a6aa1eae-368e-470d-97dc-e842740da403",
   "metadata": {},
   "outputs": [
    {
     "name": "stdout",
     "output_type": "stream",
     "text": [
      "10\n"
     ]
    }
   ],
   "source": [
    "y=lambda a,b,c:a*(b+c)\n",
    "print(y(1,4,6))"
   ]
  },
  {
   "cell_type": "code",
   "execution_count": 32,
   "id": "da122858-331f-4d29-93b4-1045e8f18c29",
   "metadata": {},
   "outputs": [
    {
     "name": "stdout",
     "output_type": "stream",
     "text": [
      "odd\n"
     ]
    }
   ],
   "source": [
    "x=lambda a: 'even' if a%2==0 else 'odd'\n",
    "print(x(7))"
   ]
  },
  {
   "cell_type": "code",
   "execution_count": null,
   "id": "e18d774d-7a77-42ac-a142-9dcdba0eaff1",
   "metadata": {},
   "outputs": [],
   "source": [
    "def ev(a):\n",
    "    if a%2==0:\n",
    "        print(\"even\")\n",
    "    else:\n",
    "        print(\"odd\")\n",
    "ev(8)"
   ]
  },
  {
   "cell_type": "code",
   "execution_count": 36,
   "id": "2270f5e6-4a6a-49eb-b6b7-4c7914094472",
   "metadata": {},
   "outputs": [
    {
     "name": "stdout",
     "output_type": "stream",
     "text": [
      "8\n"
     ]
    }
   ],
   "source": [
    "x=lambda a: a**3\n",
    "print(x(2))"
   ]
  },
  {
   "cell_type": "code",
   "execution_count": 39,
   "id": "e81ecab3-cc39-4907-beaa-c51f2f44a325",
   "metadata": {},
   "outputs": [
    {
     "name": "stdout",
     "output_type": "stream",
     "text": [
      "[1, 4, 9, 16, 25, 36, 49]\n"
     ]
    }
   ],
   "source": [
    "x=lambda n: [i**2 for i in range(1,n)]\n",
    "print(x(8))"
   ]
  },
  {
   "cell_type": "code",
   "execution_count": 47,
   "id": "6793eace-ba50-4c0d-bbc6-b4b3a4ed2c47",
   "metadata": {},
   "outputs": [
    {
     "name": "stdout",
     "output_type": "stream",
     "text": [
      "aroma\n"
     ]
    }
   ],
   "source": [
    "y=lambda x: x.lower()\n",
    "print(y('AroMa'))"
   ]
  },
  {
   "cell_type": "code",
   "execution_count": 53,
   "id": "1bf6cfdb-3ce6-4ed2-99bc-ee3f1e6b2cd9",
   "metadata": {},
   "outputs": [
    {
     "name": "stdout",
     "output_type": "stream",
     "text": [
      "[1, 3, 3, 4, 6, 8, 9]\n"
     ]
    }
   ],
   "source": [
    "y=lambda n:sorted(n)\n",
    "print(y([3,6,1,8,4,9,3]))"
   ]
  },
  {
   "cell_type": "code",
   "execution_count": 65,
   "id": "ec2cc466-b57e-4b47-88ca-f12286841d66",
   "metadata": {},
   "outputs": [
    {
     "name": "stdout",
     "output_type": "stream",
     "text": [
      "[(2, 3, 4, 5), (3, 5, 1, 8, 4, 9, 3), (3, 5, 7)]\n"
     ]
    }
   ],
   "source": [
    "x=[(3,5,1,8,4,9,3),(3,5,7),(2,3,4,5)]\n",
    "x.sort(key=lambda x:x[0])\n",
    "print(x)"
   ]
  },
  {
   "cell_type": "markdown",
   "id": "4043813d-b89a-4a93-a584-f7fae58c7449",
   "metadata": {},
   "source": [
    "# map"
   ]
  },
  {
   "cell_type": "code",
   "execution_count": null,
   "id": "077961b4-1935-484b-b0bc-c70ebb636d6e",
   "metadata": {},
   "outputs": [],
   "source": [
    "#2 arguments"
   ]
  },
  {
   "cell_type": "code",
   "execution_count": 61,
   "id": "95e1b746-5358-4688-9675-da86cfcd1d97",
   "metadata": {},
   "outputs": [
    {
     "name": "stdout",
     "output_type": "stream",
     "text": [
      "[1, 8, 27, 216]\n"
     ]
    }
   ],
   "source": [
    "def cube(n):\n",
    "    return n**3\n",
    "print(list(map(cube, [1,2,3,6])))"
   ]
  },
  {
   "cell_type": "code",
   "execution_count": 67,
   "id": "4f13e836-2723-40bc-a4a7-e304f6baae72",
   "metadata": {},
   "outputs": [
    {
     "data": {
      "text/plain": [
       "27"
      ]
     },
     "execution_count": 67,
     "metadata": {},
     "output_type": "execute_result"
    }
   ],
   "source": [
    "def cube(n):\n",
    "    return n**3\n",
    "cube(3)"
   ]
  },
  {
   "cell_type": "code",
   "execution_count": 87,
   "id": "6166c9ce-4e58-4b38-ae01-2c92da1d02ee",
   "metadata": {},
   "outputs": [
    {
     "name": "stdout",
     "output_type": "stream",
     "text": [
      "[9, 16, 36, 64, 81, 100]\n"
     ]
    }
   ],
   "source": [
    " def square(a):\n",
    "     return a**2\n",
    "print(list(map(square,(3,4,6,8,9,10))))"
   ]
  },
  {
   "cell_type": "code",
   "execution_count": 103,
   "id": "5f8f7288-1d8d-46c3-9770-9121a6118527",
   "metadata": {},
   "outputs": [
    {
     "name": "stdout",
     "output_type": "stream",
     "text": [
      "[5.0, 3.0, 4.0, 7.0]\n"
     ]
    }
   ],
   "source": [
    "from math import sqrt\n",
    "print(list(map(sqrt,[25,9,16,49])))"
   ]
  },
  {
   "cell_type": "code",
   "execution_count": 105,
   "id": "25ef95bd-2d66-479d-9e3d-d8ca9c17969a",
   "metadata": {},
   "outputs": [
    {
     "name": "stdout",
     "output_type": "stream",
     "text": [
      "[4, 16, 36, 64]\n"
     ]
    }
   ],
   "source": [
    "print(list(map(lambda n:n**2,[2,4,6,8])))"
   ]
  },
  {
   "cell_type": "code",
   "execution_count": 155,
   "id": "1622bd43-d507-4371-b6db-f0d8c91a4610",
   "metadata": {},
   "outputs": [
    {
     "name": "stdout",
     "output_type": "stream",
     "text": [
      "['A', 'N', 'U', 'P', '0', 'A', '1', 'M', 'A']\n"
     ]
    }
   ],
   "source": [
    "print(list(map(lambda n:n.upper(),\"anupama\")))"
   ]
  },
  {
   "cell_type": "code",
   "execution_count": 180,
   "id": "f4ec100b-6934-47cf-bc13-0716e5c39fc3",
   "metadata": {},
   "outputs": [
    {
     "name": "stdout",
     "output_type": "stream",
     "text": [
      "[True, True, True, True, True, False, True, True, False, False]\n"
     ]
    }
   ],
   "source": [
    "print(list(map(lambda n:n.isalpha(),\"Anupa1ma22\")))"
   ]
  },
  {
   "cell_type": "code",
   "execution_count": null,
   "id": "ee788e96-60d4-467d-8486-7de9b295fdf8",
   "metadata": {},
   "outputs": [],
   "source": [
    "def cube(n):\n",
    "    return n.upper()\n",
    "print(list(map(cube,\"Amoopa\")))"
   ]
  },
  {
   "cell_type": "code",
   "execution_count": null,
   "id": "6bdf40df-22d4-4bdc-8010-b2bb94d88531",
   "metadata": {},
   "outputs": [],
   "source": [
    "def cube(n):\n",
    "    return n.upper()\n",
    "print(list(map(lambda n:n.upper(),\"Anoopa\")))"
   ]
  },
  {
   "cell_type": "markdown",
   "id": "cf6889f7-73b6-409c-9e50-62fed34efbc8",
   "metadata": {},
   "source": [
    "# Filter"
   ]
  },
  {
   "cell_type": "code",
   "execution_count": 157,
   "id": "94e08039-41bd-485b-9f6e-a0a701f1887a",
   "metadata": {},
   "outputs": [
    {
     "name": "stdout",
     "output_type": "stream",
     "text": [
      "['A', 'n', 'u', 'p', 'a', 'm', 'a']\n"
     ]
    }
   ],
   "source": [
    "print(list(filter(lambda n:n.isalpha(),\"Anu01pa5ma\")))"
   ]
  },
  {
   "cell_type": "code",
   "execution_count": 165,
   "id": "59bbc8de-3832-4613-846e-1f50b22502dd",
   "metadata": {},
   "outputs": [],
   "source": [
    "#try islower, isupper etc."
   ]
  },
  {
   "cell_type": "markdown",
   "id": "222b0b7d-61fd-4de2-8d0b-c3e1d230af8c",
   "metadata": {},
   "source": [
    "# reduce"
   ]
  },
  {
   "cell_type": "code",
   "execution_count": 201,
   "id": "66cb1804-65ef-4123-8028-8a3c5c0cba42",
   "metadata": {},
   "outputs": [
    {
     "name": "stdout",
     "output_type": "stream",
     "text": [
      "6\n"
     ]
    }
   ],
   "source": [
    "from functools import reduce\n",
    "def sum(x,y):\n",
    "    return x+y\n",
    "print(reduce(sum,[1,2,3]))"
   ]
  },
  {
   "cell_type": "code",
   "execution_count": 199,
   "id": "e377da8a-606f-4b9e-b3d0-2eb5600cd6e0",
   "metadata": {},
   "outputs": [
    {
     "name": "stdout",
     "output_type": "stream",
     "text": [
      "20\n"
     ]
    }
   ],
   "source": [
    "print(reduce(lambda x,y:x+y, [1,4,7,8]))"
   ]
  },
  {
   "cell_type": "code",
   "execution_count": null,
   "id": "f701ec84-0bee-4525-a7be-d4ace814ab8a",
   "metadata": {},
   "outputs": [],
   "source": []
  }
 ],
 "metadata": {
  "kernelspec": {
   "display_name": "Python 3 (ipykernel)",
   "language": "python",
   "name": "python3"
  },
  "language_info": {
   "codemirror_mode": {
    "name": "ipython",
    "version": 3
   },
   "file_extension": ".py",
   "mimetype": "text/x-python",
   "name": "python",
   "nbconvert_exporter": "python",
   "pygments_lexer": "ipython3",
   "version": "3.12.7"
  }
 },
 "nbformat": 4,
 "nbformat_minor": 5
}
