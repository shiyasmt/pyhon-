{
 "cells": [
  {
   "cell_type": "markdown",
   "id": "d721daf9-13d2-4265-8289-f39719ab7e85",
   "metadata": {},
   "source": [
    "# object oriented programming concepts"
   ]
  },
  {
   "cell_type": "markdown",
   "id": "ce51d2d8-54d2-4651-998a-0ca20bca791c",
   "metadata": {},
   "source": [
    "## 1. objects \n",
    "\n",
    "###   real world entities.\n",
    "###   has crtain state and behaviour\n",
    "###   eg:student\n",
    "###   state:\n",
    "###   name,id,address\n",
    "###   methods:\n",
    "###   study,cgpa\n"
   ]
  },
  {
   "cell_type": "markdown",
   "id": "0962701c-6f8f-4ff2-9d4f-eb4c2b29d18b",
   "metadata": {},
   "source": [
    "## 2.class\n",
    "\n",
    "###   blue print of objects"
   ]
  },
  {
   "cell_type": "code",
   "execution_count": 38,
   "id": "ff39a08a-428f-40a6-9be3-e729e52e25a8",
   "metadata": {},
   "outputs": [
    {
     "name": "stdout",
     "output_type": "stream",
     "text": [
      "name:shiyas\n",
      "name:akshay\n",
      "name:basil\n",
      "id:1\n",
      "id:2\n",
      "id:4\n"
     ]
    }
   ],
   "source": [
    "class student:\n",
    "    def __init__(self,name,ids):\n",
    "        self.name=name\n",
    "        self.id=ids\n",
    "    def print_name(self):\n",
    "        print(f\"name:{self.name}\")\n",
    "    def print_id(self):\n",
    "        print(f\"id:{self.id}\")\n",
    "\n",
    "st1=student('shiyas',1)\n",
    "st2=student('akshay',2)\n",
    "st3=student('basil',4)\n",
    "st1.print_name()\n",
    "st2.print_name()\n",
    "st3.print_name()\n",
    "st1.print_id()\n",
    "st2.print_id()\n",
    "st3.print_id()"
   ]
  },
  {
   "cell_type": "code",
   "execution_count": 50,
   "id": "e91a142f-ce17-4c2a-b9c4-34f5cfb73fdb",
   "metadata": {},
   "outputs": [
    {
     "name": "stdout",
     "output_type": "stream",
     "text": [
      "name:shiyas\n",
      "age:21\n"
     ]
    }
   ],
   "source": [
    "class student:\n",
    "    def __init__(self,name,age):\n",
    "        self.name=name\n",
    "        self.age=age\n",
    "    def print_name(self):\n",
    "        print(f\"name:{self.name}\")\n",
    "    def print_age(self):\n",
    "        print(f\"age:{self.age}\")\n",
    "\n",
    "st1=student('shiyas',21)\n",
    "st1.print_name()\n",
    "st1.print_age()"
   ]
  },
  {
   "cell_type": "code",
   "execution_count": 110,
   "id": "fb2b81a6-a607-4661-a39c-9dc3257cb17e",
   "metadata": {},
   "outputs": [
    {
     "name": "stdout",
     "output_type": "stream",
     "text": [
      "your withraw amount is  32000\n",
      "your balance is  18000\n"
     ]
    }
   ],
   "source": [
    "class account:\n",
    "    def __init__(self,accnt_num,accnt_blnce):\n",
    "        self.accnt=accnt_num\n",
    "        self.blnce=accnt_blnce\n",
    "    def withdraw(self,amount):\n",
    "        if self.blnce-amount>=0:\n",
    "            self.blnce=self.blnce-amount\n",
    "            print('your withraw amount is ',amount)\n",
    "            print('your balance is ',self.blnce)\n",
    "        else:\n",
    "            print(\"withdrawal failed\")\n",
    "    def display(self):\n",
    "        print(self.accnt,\"your balance is \",self.blnce)\n",
    "\n",
    "accnt1=account(99980116647020,50000)\n",
    "accnt1.withdraw(32000)"
   ]
  },
  {
   "cell_type": "code",
   "execution_count": 114,
   "id": "ace62e7d-0e2d-4fdd-9462-7627370ca790",
   "metadata": {},
   "outputs": [
    {
     "name": "stdout",
     "output_type": "stream",
     "text": [
      "99980116647020 your balance is  18000\n"
     ]
    }
   ],
   "source": [
    "accnt1.display()"
   ]
  },
  {
   "cell_type": "code",
   "execution_count": 118,
   "id": "42cf8669-3d39-4cb6-a22d-516999f5f7a3",
   "metadata": {},
   "outputs": [
    {
     "name": "stdin",
     "output_type": "stream",
     "text": [
      "enter name:  cat\n",
      "colour:  white\n"
     ]
    },
    {
     "name": "stdout",
     "output_type": "stream",
     "text": [
      "cat\n",
      "animal can walk\n"
     ]
    }
   ],
   "source": [
    "class animal:\n",
    "    def __init__(self):\n",
    "        self.name=input(\"enter name: \")\n",
    "        self.colour=input(\"colour: \")\n",
    "    def walk(self):\n",
    "        print(\"animal can walk\")\n",
    "\n",
    "a1=animal()\n",
    "print(a1.name)\n",
    "a1.walk()"
   ]
  },
  {
   "cell_type": "code",
   "execution_count": null,
   "id": "f3d16a24-f68a-408c-a411-55f469ef8ac7",
   "metadata": {},
   "outputs": [],
   "source": [
    "a1=animal()\n",
    "print(a1.name)\n",
    "a1.walk()"
   ]
  }
 ],
 "metadata": {
  "kernelspec": {
   "display_name": "Python 3 (ipykernel)",
   "language": "python",
   "name": "python3"
  },
  "language_info": {
   "codemirror_mode": {
    "name": "ipython",
    "version": 3
   },
   "file_extension": ".py",
   "mimetype": "text/x-python",
   "name": "python",
   "nbconvert_exporter": "python",
   "pygments_lexer": "ipython3",
   "version": "3.12.7"
  }
 },
 "nbformat": 4,
 "nbformat_minor": 5
}
