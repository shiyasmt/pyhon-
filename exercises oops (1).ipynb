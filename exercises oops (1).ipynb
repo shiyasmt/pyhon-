{
 "cells": [
  {
   "cell_type": "markdown",
   "id": "898abd4d-4b22-474a-be6d-2c10270f8403",
   "metadata": {},
   "source": [
    "# exercises"
   ]
  },
  {
   "cell_type": "markdown",
   "id": "e97c742a-51c5-4d0e-a35f-55b475c54db2",
   "metadata": {},
   "source": [
    "## 1"
   ]
  },
  {
   "cell_type": "code",
   "execution_count": 59,
   "id": "daffd69f-a110-48b7-85e1-9927f8271d11",
   "metadata": {},
   "outputs": [],
   "source": [
    "class employee:\n",
    "    def __init__(self,emp_name,emp_id,emp_salary,emp_dptmt):\n",
    "        self.name=emp_name\n",
    "        self.id=emp_id\n",
    "        self.salary=emp_salary\n",
    "        self.dptmt=emp_dptmt\n",
    "    def assign_department(self):\n",
    "        self.emp_dptmt=input()\n",
    "        print(f\"employee {self.name}'s department has been changed to {self.emp_dptmt}\")\n",
    "    def staff_details(self):\n",
    "        print(f\"staff_name:{self.name}\")\n",
    "        print(f\"emp_id:{self.id}\")\n",
    "        print(f\"emp_salary:{self.salary}\")\n",
    "        print(f\"emp_dptmt:{self.emp_dptmt}\")\n",
    "    def staff_salary(self,hours_worked):\n",
    "        if hours_worked>50:\n",
    "            overtime=hours_worked-50\n",
    "            Overtime_amount = (overtime *(self.salary / 50))\n",
    "            total_salary=self.salary+Overtime_amount\n",
    "        else:\n",
    "            total_salary=self.salary\n",
    "        return total_salary\n",
    "\n",
    "emp1=employee(\"ADAMS\", \"E7876\", 50000, \"ACCOUNTING\")\n",
    "emp2=employee(\"JONES\", \"E7499\", 45000, \"RESEARCH\")\n",
    "emp3=employee(\"MARTIN\", \"E7900\", 50000, \"SALES\")\n",
    "emp4=employee(\"SMITH\", \"E7698\", 55000, \"OPERATIONS\")\n",
    "\n",
    "\n"
   ]
  },
  {
   "cell_type": "code",
   "execution_count": 23,
   "id": "f5440aa7-cf02-4ec5-b708-1202b80c3125",
   "metadata": {},
   "outputs": [
    {
     "name": "stdin",
     "output_type": "stream",
     "text": [
      " marketing\n"
     ]
    },
    {
     "name": "stdout",
     "output_type": "stream",
     "text": [
      "employee ADAMS's department has been changed to marketing\n"
     ]
    }
   ],
   "source": [
    "emp1.assign_department()"
   ]
  },
  {
   "cell_type": "code",
   "execution_count": 55,
   "id": "9584e921-dd22-4389-8622-517bf99dcfc5",
   "metadata": {},
   "outputs": [
    {
     "data": {
      "text/plain": [
       "50400.0"
      ]
     },
     "execution_count": 55,
     "metadata": {},
     "output_type": "execute_result"
    }
   ],
   "source": [
    "emp2.staff_salary(56)"
   ]
  },
  {
   "cell_type": "code",
   "execution_count": 61,
   "id": "b7498f33-0c66-4801-b1ff-6a00aaa1f046",
   "metadata": {},
   "outputs": [
    {
     "data": {
      "text/plain": [
       "50000"
      ]
     },
     "execution_count": 61,
     "metadata": {},
     "output_type": "execute_result"
    }
   ],
   "source": [
    "emp1.staff_salary(50)"
   ]
  },
  {
   "cell_type": "code",
   "execution_count": 25,
   "id": "04d76b07-1fb0-4114-97de-25fe758e2edf",
   "metadata": {},
   "outputs": [
    {
     "name": "stdout",
     "output_type": "stream",
     "text": [
      "staff_name:ADAMS\n",
      "emp_id:E7876\n",
      "emp_salary:50000\n",
      "emp_dptmt:marketing\n"
     ]
    }
   ],
   "source": [
    "emp1.staff_details()"
   ]
  },
  {
   "cell_type": "code",
   "execution_count": 51,
   "id": "347619ce-ad4b-4019-9b3d-ee24cdc3dcb5",
   "metadata": {},
   "outputs": [
    {
     "name": "stdout",
     "output_type": "stream",
     "text": [
      "staff_name:JONES\n",
      "emp_id:E7499\n",
      "emp_salary:45000\n",
      "emp_department:RESEARCH\n"
     ]
    }
   ],
   "source": [
    "emp2.staff_details()"
   ]
  },
  {
   "cell_type": "code",
   "execution_count": 53,
   "id": "5e985975-0352-4ff3-a621-6eba7cf28cc6",
   "metadata": {},
   "outputs": [
    {
     "name": "stdout",
     "output_type": "stream",
     "text": [
      "staff_name:MARTIN\n",
      "emp_id:E7900\n",
      "emp_salary:50000\n",
      "emp_department:SALES\n"
     ]
    }
   ],
   "source": [
    "emp3.staff_details()"
   ]
  },
  {
   "cell_type": "code",
   "execution_count": 55,
   "id": "60d7be06-1c21-4fd6-bfc1-00a30e95dd4b",
   "metadata": {},
   "outputs": [
    {
     "name": "stdout",
     "output_type": "stream",
     "text": [
      "staff_name:SMITH\n",
      "emp_id:E7698\n",
      "emp_salary:55000\n",
      "emp_department:OPERATIONS\n"
     ]
    }
   ],
   "source": [
    "emp4.staff_details()"
   ]
  },
  {
   "cell_type": "code",
   "execution_count": 63,
   "id": "03e8d90a-b50b-40cf-8955-70c79be72238",
   "metadata": {},
   "outputs": [
    {
     "data": {
      "text/plain": [
       "55000"
      ]
     },
     "execution_count": 63,
     "metadata": {},
     "output_type": "execute_result"
    }
   ],
   "source": [
    "emp4.staff_salary(45)"
   ]
  },
  {
   "cell_type": "code",
   "execution_count": null,
   "id": "6b2ba68c-38d7-4062-9b51-b3ad93faa22f",
   "metadata": {},
   "outputs": [],
   "source": []
  },
  {
   "cell_type": "code",
   "execution_count": 160,
   "id": "3148d2e6-5fb6-4985-a6ee-3c54c8db5279",
   "metadata": {},
   "outputs": [],
   "source": [
    "class restaurent:\n",
    "    def __init__(self,menu_items,book_table,customer_orders):\n",
    "        self.items=menu_items\n",
    "        self.table=book_table\n",
    "        self.order=customer_orders\n",
    "    def add_item_to_menu(self):\n",
    "        self.menu=input()\n",
    "        self.items.append(self.menu)\n",
    "        print(f\"special items are:{self.items}\")\n",
    "    def book_tables(self):\n",
    "        self.book=input()\n",
    "        self.table.append(self.book)\n",
    "        print(f\"booked table is :{self.table}\")\n",
    "    def customer_order(self):\n",
    "        self.customer_order=input()\n",
    "        self.order.append(self.customer_order)\n",
    "        print(f\"total order is :{self.order}\")\n",
    "    def print_the_full_details(self):\n",
    "         print(f\"special items are:{self.items}\")\n",
    "         print(f\"booked table is :{self.table}\")\n",
    "         print(f\"total order is :{self.order}\")\n",
    "\n",
    "orders= restaurent(menu_items=[\"pasta\",\"pizza\"], book_table=[3,4], customer_orders=[1,2])"
   ]
  },
  {
   "cell_type": "code",
   "execution_count": 162,
   "id": "43d9e879-a86a-4fe6-b7c9-c36d05de259e",
   "metadata": {},
   "outputs": [
    {
     "name": "stdin",
     "output_type": "stream",
     "text": [
      " burger\n"
     ]
    },
    {
     "name": "stdout",
     "output_type": "stream",
     "text": [
      "special items are:['pasta', 'pizza', 'burger']\n"
     ]
    }
   ],
   "source": [
    "orders.add_item_to_menu()"
   ]
  },
  {
   "cell_type": "code",
   "execution_count": 164,
   "id": "70cd61a6-7ffa-43b1-85f3-98652f1ca0e2",
   "metadata": {},
   "outputs": [
    {
     "name": "stdin",
     "output_type": "stream",
     "text": [
      " 2\n"
     ]
    },
    {
     "name": "stdout",
     "output_type": "stream",
     "text": [
      "booked table is :[3, 4, '2']\n"
     ]
    }
   ],
   "source": [
    "orders.book_tables()"
   ]
  },
  {
   "cell_type": "code",
   "execution_count": 166,
   "id": "15cafb4b-a6fe-4c9b-833e-f374ca03b6d9",
   "metadata": {},
   "outputs": [
    {
     "name": "stdin",
     "output_type": "stream",
     "text": [
      " pasta,pizza\n"
     ]
    },
    {
     "name": "stdout",
     "output_type": "stream",
     "text": [
      "total order is :[1, 2, 'pasta,pizza']\n"
     ]
    }
   ],
   "source": [
    "orders.customer_order()"
   ]
  },
  {
   "cell_type": "code",
   "execution_count": null,
   "id": "568485b2-42ca-4b85-b020-0da6f19fbbfb",
   "metadata": {},
   "outputs": [],
   "source": []
  }
 ],
 "metadata": {
  "kernelspec": {
   "display_name": "Python 3 (ipykernel)",
   "language": "python",
   "name": "python3"
  },
  "language_info": {
   "codemirror_mode": {
    "name": "ipython",
    "version": 3
   },
   "file_extension": ".py",
   "mimetype": "text/x-python",
   "name": "python",
   "nbconvert_exporter": "python",
   "pygments_lexer": "ipython3",
   "version": "3.12.7"
  }
 },
 "nbformat": 4,
 "nbformat_minor": 5
}
